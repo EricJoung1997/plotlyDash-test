{
 "cells": [
  {
   "cell_type": "code",
   "execution_count": 1,
   "metadata": {},
   "outputs": [
    {
     "name": "stdout",
     "output_type": "stream",
     "text": [
      "app.py\trequirements.txt  test.ipynb\n"
     ]
    },
    {
     "name": "stderr",
     "output_type": "stream",
     "text": [
      "Bad pipe message: %s [b'ab487\\r\\nX-Real-IP: 43.206.46.66\\r\\nX-Forwarded-For: 43.206.46.66\\r\\nX-Forwarded-Host: ericjoung1997-glo']\n",
      "Bad pipe message: %s [b'ng-parakeet-64vjjg54w7w3rxjx-37645.preview.app.github.dev\\r\\nX-Forwarded-Port: 443\\r\\nX-Forwarded-Proto: https\\r\\nX-Forwarde', b'Scheme: https\\r\\nX-Original-URI: /\\r\\nX-Scheme: https\\r\\nConnection: Keep-Alive\\r\\nProxy-Connection: Keep-A', b've\\r\\ncache-control: max-age=0\\r\\nupgrade-insecure-requests: 1\\r\\nuser-agent: Mozilla/5.0 (Windows NT 10.0; Win64', b'x64) AppleWebKit/537.36 (KHTML, like Gecko) Chrome/111.0.0']\n",
      "Bad pipe message: %s [b' Safari/537.36\\r\\naccept: text/html,application']\n",
      "Bad pipe message: %s [b'html+xml,application/xml;q=0.9,image/avif,imag']\n",
      "Bad pipe message: %s [b'webp,image/apng,*/*;q=0.8,application/signed-exchange;v=b3;q=0.7\\r\\nsec-fetch-site: same-site\\r\\nsec-fet', b'-mode: navigate\\r\\nsec-fetch-dest: document\\r\\nsec-ch-ua: \"Google Chrome\";v=\"111\", \"Not(A:Brand\";v=\"8\"']\n",
      "Bad pipe message: %s [b'\"Chromium\";v=\"111\"\\r\\nsec-ch-ua-mobile: ?0\\r\\ns']\n"
     ]
    }
   ],
   "source": [
    "! ls"
   ]
  }
 ],
 "metadata": {
  "kernelspec": {
   "display_name": "Python 3",
   "language": "python",
   "name": "python3"
  },
  "language_info": {
   "codemirror_mode": {
    "name": "ipython",
    "version": 3
   },
   "file_extension": ".py",
   "mimetype": "text/x-python",
   "name": "python",
   "nbconvert_exporter": "python",
   "pygments_lexer": "ipython3",
   "version": "3.10.4"
  },
  "orig_nbformat": 4
 },
 "nbformat": 4,
 "nbformat_minor": 2
}
